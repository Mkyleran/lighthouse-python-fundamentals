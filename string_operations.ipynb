{
 "cells": [
  {
   "cell_type": "code",
   "execution_count": null,
   "id": "6b38bd55-a327-4c9f-9ee7-ca030ccff48f",
   "metadata": {},
   "outputs": [],
   "source": [
    "ord('a')"
   ]
  },
  {
   "cell_type": "code",
   "execution_count": 16,
   "id": "0a0c155c-cb5d-4df3-a421-c43aecef6814",
   "metadata": {},
   "outputs": [
    {
     "name": "stdin",
     "output_type": "stream",
     "text": [
      "enter a number:  99\n"
     ]
    },
    {
     "name": "stdout",
     "output_type": "stream",
     "text": [
      "94\n"
     ]
    }
   ],
   "source": [
    "anyNum = int(input(\"enter a number: \"))\n",
    "anyNum -= 5\n",
    "print(anyNum)"
   ]
  },
  {
   "cell_type": "code",
   "execution_count": 1,
   "id": "e31f388e-42c4-46a6-8c4e-0c2887f1d621",
   "metadata": {},
   "outputs": [],
   "source": [
    "a = ['foo', 'bar', 'baz', 'qux']"
   ]
  },
  {
   "cell_type": "code",
   "execution_count": 2,
   "id": "f3febdf9-e2a0-498b-a47f-ef36b204ac86",
   "metadata": {},
   "outputs": [
    {
     "data": {
      "text/plain": [
       "['foo', 'bar', 'baz', 'qux']"
      ]
     },
     "execution_count": 2,
     "metadata": {},
     "output_type": "execute_result"
    }
   ],
   "source": [
    "a"
   ]
  },
  {
   "cell_type": "code",
   "execution_count": 3,
   "id": "2514a348-d2ee-442c-a01f-70960194ef84",
   "metadata": {},
   "outputs": [],
   "source": [
    "del a[2]"
   ]
  },
  {
   "cell_type": "code",
   "execution_count": 4,
   "id": "6df423dc-94eb-4f55-9edb-fe5f4f470c42",
   "metadata": {},
   "outputs": [
    {
     "data": {
      "text/plain": [
       "['foo', 'bar', 'qux']"
      ]
     },
     "execution_count": 4,
     "metadata": {},
     "output_type": "execute_result"
    }
   ],
   "source": [
    "a"
   ]
  },
  {
   "cell_type": "code",
   "execution_count": 5,
   "id": "419ad4b8-b3e1-4445-a2ea-f2f595f2ccc6",
   "metadata": {},
   "outputs": [],
   "source": [
    "a[2] = [1,2,3]"
   ]
  },
  {
   "cell_type": "code",
   "execution_count": 6,
   "id": "1496c8bb-4e62-44de-bb0b-62acc518bb55",
   "metadata": {},
   "outputs": [
    {
     "data": {
      "text/plain": [
       "['foo', 'bar', [1, 2, 3]]"
      ]
     },
     "execution_count": 6,
     "metadata": {},
     "output_type": "execute_result"
    }
   ],
   "source": [
    "a"
   ]
  },
  {
   "cell_type": "code",
   "execution_count": 7,
   "id": "8f6a1715-9cc8-4181-9b5f-56d86d5fed47",
   "metadata": {},
   "outputs": [
    {
     "data": {
      "text/plain": [
       "['foo', 1, 2, 3, [1, 2, 3]]"
      ]
     },
     "execution_count": 7,
     "metadata": {},
     "output_type": "execute_result"
    }
   ],
   "source": [
    "a[1:2] = [1, 2, 3]\n",
    "a"
   ]
  },
  {
   "cell_type": "code",
   "execution_count": 8,
   "id": "b03bce38-9729-4622-adc7-650b00eebd15",
   "metadata": {},
   "outputs": [],
   "source": [
    "MLB_team = {\n",
    "    'Colorado' : 'Rockies',\n",
    "    'Boston' : 'Red sox',\n",
    "    'Minnesota' : 'Twins',\n",
    "    'Milwaukee' : 'Brewers',\n",
    "    'Seatt;e' : 'Mariners'\n",
    "}"
   ]
  },
  {
   "cell_type": "code",
   "execution_count": 9,
   "id": "9887f207-75e5-4cf9-bb0f-0fee10502258",
   "metadata": {},
   "outputs": [
    {
     "data": {
      "text/plain": [
       "({'Colorado': 'Rockies',\n",
       "  'Boston': 'Red sox',\n",
       "  'Minnesota': 'Twins',\n",
       "  'Milwaukee': 'Brewers',\n",
       "  'Seatt;e': 'Mariners'},\n",
       " {'Colorado': 'Rockies',\n",
       "  'Bonston': 'Red Sox',\n",
       "  'Minnesota': 'Twins',\n",
       "  'Milwaukee': 'Brewers',\n",
       "  'Seattle': 'Mariners'},\n",
       " {'Colorado': 'Rockies',\n",
       "  'Boston': 'Red Sox',\n",
       "  'Minnesota': 'Twins',\n",
       "  'Milwaukee': 'Brewrs',\n",
       "  'Seattle': 'Mariners'})"
      ]
     },
     "execution_count": 9,
     "metadata": {},
     "output_type": "execute_result"
    }
   ],
   "source": [
    "MLT_Beam = dict([\n",
    "    ('Colorado', 'Rockies'),\n",
    "    ('Bonston', 'Red Sox'),\n",
    "    ('Minnesota', 'Twins'),\n",
    "    ('Milwaukee', 'Brewers'),\n",
    "    ('Seattle', 'Mariners')\n",
    "])\n",
    "\n",
    "BLT_meam = dict(\n",
    "Colorado='Rockies',\n",
    "Boston='Red Sox',\n",
    "Minnesota='Twins',\n",
    "Milwaukee='Brewrs', Seattle='Mariners')\n",
    "\n",
    "MLB_team, MLT_Beam, BLT_meam"
   ]
  },
  {
   "cell_type": "code",
   "execution_count": 10,
   "id": "c0b5278e-9d2f-4575-be89-ca17435b81ec",
   "metadata": {},
   "outputs": [],
   "source": [
    "MLB_team['Colorado']\n",
    "MLB_team['Kansas City'] = 'Royals'"
   ]
  },
  {
   "cell_type": "code",
   "execution_count": 14,
   "id": "0edea50f-d161-4633-adb7-c8705fa63e15",
   "metadata": {},
   "outputs": [
    {
     "ename": "KeyError",
     "evalue": "'Seattle'",
     "output_type": "error",
     "traceback": [
      "\u001b[0;31m---------------------------------------------------------------------------\u001b[0m",
      "\u001b[0;31mKeyError\u001b[0m                                  Traceback (most recent call last)",
      "\u001b[0;32m/var/folders/ts/nr_dy3vj1691_8qh643c76sh0000gn/T/ipykernel_5648/92375476.py\u001b[0m in \u001b[0;36m<module>\u001b[0;34m\u001b[0m\n\u001b[0;32m----> 1\u001b[0;31m \u001b[0;32mdel\u001b[0m \u001b[0mMLT_Beam\u001b[0m\u001b[0;34m[\u001b[0m\u001b[0;34m'Seattle'\u001b[0m\u001b[0;34m]\u001b[0m\u001b[0;34m\u001b[0m\u001b[0;34m\u001b[0m\u001b[0m\n\u001b[0m",
      "\u001b[0;31mKeyError\u001b[0m: 'Seattle'"
     ]
    }
   ],
   "source": [
    "del MLT_Beam['Seattle']"
   ]
  },
  {
   "cell_type": "code",
   "execution_count": 15,
   "id": "02ee9257-e854-4d4a-81d5-969e602aaf01",
   "metadata": {},
   "outputs": [
    {
     "data": {
      "text/plain": [
       "{'Colorado': 'Rockies',\n",
       " 'Bonston': 'Red Sox',\n",
       " 'Minnesota': 'Twins',\n",
       " 'Milwaukee': 'Brewers'}"
      ]
     },
     "execution_count": 15,
     "metadata": {},
     "output_type": "execute_result"
    }
   ],
   "source": [
    "MLT_Beam"
   ]
  },
  {
   "cell_type": "code",
   "execution_count": 16,
   "id": "cfa64a04-6405-4589-89f2-98750a9ecac1",
   "metadata": {},
   "outputs": [
    {
     "data": {
      "text/plain": [
       "{'Colorado': 'Rockies',\n",
       " 'Bonston': 'Red Sox',\n",
       " 'Minnesota': 'Twins',\n",
       " 'Milwaukee': 'Brewrs',\n",
       " 'Boston': 'Red Sox',\n",
       " 'Seattle': 'Mariners'}"
      ]
     },
     "execution_count": 16,
     "metadata": {},
     "output_type": "execute_result"
    }
   ],
   "source": [
    "MLT_Beam.update(BLT_meam)\n",
    "MLT_Beam"
   ]
  },
  {
   "cell_type": "code",
   "execution_count": null,
   "id": "9860c521-0b74-4e66-bb37-11e74f238e22",
   "metadata": {},
   "outputs": [],
   "source": []
  }
 ],
 "metadata": {
  "kernelspec": {
   "display_name": "Python 3 (ipykernel)",
   "language": "python",
   "name": "python3"
  },
  "language_info": {
   "codemirror_mode": {
    "name": "ipython",
    "version": 3
   },
   "file_extension": ".py",
   "mimetype": "text/x-python",
   "name": "python",
   "nbconvert_exporter": "python",
   "pygments_lexer": "ipython3",
   "version": "3.8.12"
  }
 },
 "nbformat": 4,
 "nbformat_minor": 5
}
