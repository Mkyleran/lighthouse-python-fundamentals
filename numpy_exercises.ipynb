{
 "cells": [
  {
   "cell_type": "markdown",
   "metadata": {},
   "source": [
    "# NumPy exercises\n",
    "\n",
    "We are going to practice NumPy skills and basic syntax.\n",
    "\n",
    "We put here also some examples that were not in the tutorial on purpose. Try to use google and offial NumPy documentation to solve these exercises."
   ]
  },
  {
   "cell_type": "markdown",
   "metadata": {},
   "source": [
    "#### 1. Import the numpy package under the name `np` (★☆☆)"
   ]
  },
  {
   "cell_type": "code",
   "execution_count": 2,
   "metadata": {
    "tags": []
   },
   "outputs": [],
   "source": [
    "import numpy as np"
   ]
  },
  {
   "cell_type": "markdown",
   "metadata": {},
   "source": [
    "#### 3. Create a null vector of size 10 (★☆☆)"
   ]
  },
  {
   "cell_type": "code",
   "execution_count": 4,
   "metadata": {
    "collapsed": false,
    "jupyter": {
     "outputs_hidden": false
    }
   },
   "outputs": [],
   "source": [
    "a = np.zeros(10)"
   ]
  },
  {
   "cell_type": "markdown",
   "metadata": {},
   "source": [
    "#### 6.  Create a null vector of size 10 but the fifth value which is 1 (★☆☆)"
   ]
  },
  {
   "cell_type": "code",
   "execution_count": 6,
   "metadata": {
    "collapsed": false,
    "jupyter": {
     "outputs_hidden": false
    }
   },
   "outputs": [
    {
     "name": "stdout",
     "output_type": "stream",
     "text": [
      "[0. 0. 0. 0. 1. 0. 0. 0. 0. 0.]\n"
     ]
    }
   ],
   "source": [
    "a[4] = 1\n",
    "print(a)"
   ]
  },
  {
   "cell_type": "markdown",
   "metadata": {},
   "source": [
    "#### 7.  Create a vector with values ranging from 10 to 49 (★☆☆)"
   ]
  },
  {
   "cell_type": "code",
   "execution_count": 8,
   "metadata": {
    "collapsed": false,
    "jupyter": {
     "outputs_hidden": false
    }
   },
   "outputs": [
    {
     "name": "stdout",
     "output_type": "stream",
     "text": [
      "[10 11 12 13 14 15 16 17 18 19 20 21 22 23 24 25 26 27 28 29 30 31 32 33\n",
      " 34 35 36 37 38 39 40 41 42 43 44 45 46 47 48 49]\n"
     ]
    }
   ],
   "source": [
    "b = np.arange(10, 50)\n",
    "print(b)"
   ]
  },
  {
   "cell_type": "markdown",
   "metadata": {},
   "source": [
    "#### 8.  Reverse a vector (first element becomes last) (★☆☆)"
   ]
  },
  {
   "cell_type": "code",
   "execution_count": 10,
   "metadata": {
    "collapsed": false,
    "jupyter": {
     "outputs_hidden": false
    }
   },
   "outputs": [
    {
     "data": {
      "text/plain": [
       "array([49, 48, 47, 46, 45, 44, 43, 42, 41, 40, 39, 38, 37, 36, 35, 34, 33,\n",
       "       32, 31, 30, 29, 28, 27, 26, 25, 24, 23, 22, 21, 20, 19, 18, 17, 16,\n",
       "       15, 14, 13, 12, 11, 10])"
      ]
     },
     "execution_count": 10,
     "metadata": {},
     "output_type": "execute_result"
    }
   ],
   "source": [
    "np.flip(b)"
   ]
  },
  {
   "cell_type": "markdown",
   "metadata": {},
   "source": [
    "#### 9.  Create a 3x3 matrix with values ranging from 0 to 8 (★☆☆)"
   ]
  },
  {
   "cell_type": "code",
   "execution_count": 12,
   "metadata": {
    "collapsed": false,
    "jupyter": {
     "outputs_hidden": false
    }
   },
   "outputs": [
    {
     "name": "stdout",
     "output_type": "stream",
     "text": [
      "[[0 1 2]\n",
      " [3 4 5]\n",
      " [6 7 8]]\n"
     ]
    }
   ],
   "source": [
    "c = np.arange(9).reshape(3,3)\n",
    "print(c)"
   ]
  },
  {
   "cell_type": "markdown",
   "metadata": {},
   "source": [
    "#### 10. Find indices of non-zero elements from \\[1,2,0,0,4,0\\] (★☆☆)"
   ]
  },
  {
   "cell_type": "code",
   "execution_count": 13,
   "metadata": {
    "collapsed": false,
    "jupyter": {
     "outputs_hidden": false
    }
   },
   "outputs": [
    {
     "name": "stdout",
     "output_type": "stream",
     "text": [
      "(array([0, 1, 4]),)\n"
     ]
    }
   ],
   "source": [
    "d = np.array([1,2,0,0,4,0])\n",
    "\n",
    "print(np.where(d != 0))"
   ]
  },
  {
   "cell_type": "markdown",
   "metadata": {},
   "source": [
    "#### 12. Create a 3x3x3 array with random values (★☆☆)"
   ]
  },
  {
   "cell_type": "code",
   "execution_count": 14,
   "metadata": {
    "tags": []
   },
   "outputs": [
    {
     "data": {
      "text/plain": [
       "array([[[0.29759177, 0.07496132, 0.40085695],\n",
       "        [0.15587205, 0.28028053, 0.52930355],\n",
       "        [0.48089276, 0.70939491, 0.58212149]],\n",
       "\n",
       "       [[0.52433227, 0.01741384, 0.9062258 ],\n",
       "        [0.47318058, 0.77997093, 0.97627928],\n",
       "        [0.11039063, 0.94625214, 0.73171173]],\n",
       "\n",
       "       [[0.75248952, 0.57020726, 0.87849616],\n",
       "        [0.77835726, 0.02154539, 0.76215054],\n",
       "        [0.75614006, 0.9580291 , 0.15794225]]])"
      ]
     },
     "execution_count": 14,
     "metadata": {},
     "output_type": "execute_result"
    }
   ],
   "source": [
    "np.random.rand(3,3,3)"
   ]
  },
  {
   "cell_type": "markdown",
   "metadata": {},
   "source": [
    "#### 13. Create a 10x10 array with random values and find the minimum and maximum values (★☆☆)"
   ]
  },
  {
   "cell_type": "code",
   "execution_count": 16,
   "metadata": {
    "collapsed": false,
    "jupyter": {
     "outputs_hidden": false
    }
   },
   "outputs": [
    {
     "name": "stdout",
     "output_type": "stream",
     "text": [
      "[[0.03817613 0.46824785 0.6330762  0.22177922 0.39921315 0.11875645\n",
      "  0.0684955  0.82135461 0.11623141 0.42544981]\n",
      " [0.02829561 0.32491878 0.42048476 0.45736655 0.71828623 0.28416532\n",
      "  0.87880632 0.88738159 0.95301438 0.87341497]\n",
      " [0.85048623 0.44833658 0.73241521 0.45431777 0.85686757 0.14029117\n",
      "  0.49219542 0.01413845 0.74676635 0.71762328]\n",
      " [0.28841364 0.62132201 0.90256818 0.65657835 0.16656523 0.82619224\n",
      "  0.87365261 0.20932466 0.95635423 0.61617869]\n",
      " [0.90977632 0.67337667 0.81879257 0.2524405  0.45331265 0.19000763\n",
      "  0.48924592 0.2790814  0.95820849 0.08261985]\n",
      " [0.09161373 0.01662217 0.31861874 0.42816179 0.00282488 0.0827373\n",
      "  0.14738201 0.72848349 0.94572078 0.40272108]\n",
      " [0.88547437 0.12875476 0.5420299  0.26175109 0.48609565 0.35349423\n",
      "  0.05615109 0.45983622 0.51649315 0.21425756]\n",
      " [0.9657107  0.65025173 0.38077274 0.55627815 0.86327037 0.10250291\n",
      "  0.10996575 0.23532944 0.2124811  0.2224776 ]\n",
      " [0.65043555 0.43718115 0.16257318 0.39998549 0.91066457 0.57089399\n",
      "  0.83211934 0.46429943 0.56852709 0.01479154]\n",
      " [0.8084514  0.27867645 0.71479461 0.52222392 0.12416915 0.41206166\n",
      "  0.9455038  0.26149718 0.25589535 0.26700187]]\n",
      "0.0028248764926644965\n",
      "0.9657107023297431\n"
     ]
    }
   ],
   "source": [
    "e = np.random.rand(10,10)\n",
    "print(e)\n",
    "print(np.min(e))\n",
    "print(np.max(e))"
   ]
  },
  {
   "cell_type": "markdown",
   "metadata": {},
   "source": [
    "#### 14. Create a random vector of size 30 and find the mean value (★☆☆)"
   ]
  },
  {
   "cell_type": "code",
   "execution_count": 17,
   "metadata": {
    "collapsed": false,
    "jupyter": {
     "outputs_hidden": false
    }
   },
   "outputs": [
    {
     "name": "stdout",
     "output_type": "stream",
     "text": [
      "0.5356419365603062\n"
     ]
    }
   ],
   "source": [
    "f = np.random.rand(30)\n",
    "print(np.mean(f))"
   ]
  },
  {
   "cell_type": "markdown",
   "metadata": {},
   "source": [
    "#### 15. Create a 2d array with 1 on the border and 0 inside (★☆☆)"
   ]
  },
  {
   "cell_type": "code",
   "execution_count": 21,
   "metadata": {
    "collapsed": false,
    "jupyter": {
     "outputs_hidden": false
    }
   },
   "outputs": [
    {
     "name": "stdout",
     "output_type": "stream",
     "text": [
      "[[1. 1. 1.]\n",
      " [1. 0. 1.]\n",
      " [1. 1. 1.]]\n"
     ]
    }
   ],
   "source": [
    "g = np.ones((3,3))\n",
    "g[1,1] = 0\n",
    "print(g)"
   ]
  },
  {
   "cell_type": "markdown",
   "metadata": {},
   "source": [
    "#### 16. How to add a border (filled with 0's) around an existing array? (★☆☆)"
   ]
  },
  {
   "cell_type": "code",
   "execution_count": 23,
   "metadata": {
    "collapsed": false,
    "jupyter": {
     "outputs_hidden": false
    }
   },
   "outputs": [
    {
     "name": "stdout",
     "output_type": "stream",
     "text": [
      "[[0. 0. 0.]\n",
      " [0. 0. 0.]\n",
      " [0. 0. 0.]]\n"
     ]
    }
   ],
   "source": [
    "g[[0, -1], :] = 0\n",
    "g[:,[0,-1]] = 0\n",
    "print(g)"
   ]
  },
  {
   "cell_type": "markdown",
   "metadata": {},
   "source": [
    "#### 17. What is the result of the following expression? (★☆☆)"
   ]
  },
  {
   "cell_type": "code",
   "execution_count": 31,
   "metadata": {},
   "outputs": [
    {
     "data": {
      "text/plain": [
       "nan"
      ]
     },
     "execution_count": 31,
     "metadata": {},
     "output_type": "execute_result"
    }
   ],
   "source": [
    "0 * np.nan\n",
    "# np.nan == np.nan\n",
    "# np.inf > np.nan\n",
    "# np.nan - np.nan\n",
    "# np.nan in set([np.nan])\n",
    "# 0.3 == 3 * 0.1"
   ]
  },
  {
   "cell_type": "code",
   "execution_count": null,
   "metadata": {
    "collapsed": false,
    "jupyter": {
     "outputs_hidden": false
    }
   },
   "outputs": [],
   "source": []
  },
  {
   "cell_type": "markdown",
   "metadata": {},
   "source": [
    "#### 18. Create a 5x5 matrix with values 1,2,3,4 just below the diagonal (★☆☆)"
   ]
  },
  {
   "cell_type": "code",
   "execution_count": 37,
   "metadata": {
    "collapsed": false,
    "jupyter": {
     "outputs_hidden": false
    }
   },
   "outputs": [
    {
     "name": "stdout",
     "output_type": "stream",
     "text": [
      "[[1. 1. 1. 1. 1.]\n",
      " [1. 1. 1. 1. 1.]\n",
      " [1. 1. 1. 1. 1.]\n",
      " [1. 1. 1. 1. 1.]\n",
      " [1. 1. 1. 1. 1.]]\n",
      "[[1. 1. 1. 1. 1.]\n",
      " [1. 1. 1. 1. 1.]\n",
      " [1. 2. 1. 1. 1.]\n",
      " [1. 1. 3. 1. 1.]\n",
      " [1. 1. 1. 4. 1.]]\n"
     ]
    }
   ],
   "source": [
    "a = np.ones([5,5])\n",
    "print(a)\n",
    "a[[1, 2, 3, 4], [0, 1, 2, 3]] = [1, 2, 3, 4]\n",
    "print(a)"
   ]
  },
  {
   "cell_type": "markdown",
   "metadata": {},
   "source": [
    "#### 20. Consider a (6,7,8) shape array, what is the index (x,y,z) of the 100th element?"
   ]
  },
  {
   "cell_type": "code",
   "execution_count": 63,
   "metadata": {
    "collapsed": false,
    "jupyter": {
     "outputs_hidden": false
    }
   },
   "outputs": [
    {
     "data": {
      "text/plain": [
       "(1, 5, 4)"
      ]
     },
     "execution_count": 63,
     "metadata": {},
     "output_type": "execute_result"
    }
   ],
   "source": [
    "np.unravel_index(100, (6, 7, 8))"
   ]
  },
  {
   "cell_type": "markdown",
   "metadata": {},
   "source": [
    "#### 22. Normalize a 5x5 random matrix (★☆☆)"
   ]
  },
  {
   "cell_type": "code",
   "execution_count": 54,
   "metadata": {
    "collapsed": false,
    "jupyter": {
     "outputs_hidden": false
    }
   },
   "outputs": [
    {
     "name": "stdout",
     "output_type": "stream",
     "text": [
      "[[0.826827   0.42787658 0.20007504 0.93139335 0.23396572]\n",
      " [0.19007623 0.50865218 0.23227379 0.65661055 0.84429625]\n",
      " [0.09592396 0.60246609 0.87718858 0.43393744 0.97421772]\n",
      " [0.27213153 0.37200073 0.90117963 0.96250297 0.0674581 ]\n",
      " [0.85525195 0.82067573 0.58400144 0.07187052 0.35151135]]\n",
      "[[0.26923665 0.13932789 0.06514971 0.30328621 0.0761854 ]\n",
      " [0.06189383 0.16563055 0.07563446 0.21380969 0.2749251 ]\n",
      " [0.03123537 0.19617883 0.28563571 0.14130146 0.31723095]\n",
      " [0.0886132  0.12113324 0.29344783 0.31341632 0.02196614]\n",
      " [0.27849257 0.26723364 0.19016625 0.02340293 0.11446135]]\n"
     ]
    }
   ],
   "source": [
    "h = np.random.rand(5,5)\n",
    "print(h)\n",
    "norm = np.linalg.norm(h)\n",
    "print(h/norm)"
   ]
  },
  {
   "cell_type": "markdown",
   "metadata": {},
   "source": [
    "#### 25. Given a 1D array, negate all elements which are between 3 and 8, in place. (★☆☆)"
   ]
  },
  {
   "cell_type": "code",
   "execution_count": 59,
   "metadata": {
    "collapsed": false,
    "jupyter": {
     "outputs_hidden": false
    }
   },
   "outputs": [
    {
     "name": "stdout",
     "output_type": "stream",
     "text": [
      "[9 5 4 4 6 4 4 1 0 9]\n"
     ]
    },
    {
     "data": {
      "text/plain": [
       "array([ 9, -5, -4, -4, -6, -4, -4,  1,  0,  9])"
      ]
     },
     "execution_count": 59,
     "metadata": {},
     "output_type": "execute_result"
    }
   ],
   "source": [
    "a = np.random.randint(10, size=10)\n",
    "print(a)\n",
    "np.where((a > 3) & (a < 8), -a, a)"
   ]
  },
  {
   "cell_type": "markdown",
   "metadata": {},
   "source": [
    "#### 29. How to round away from zero a float array ? (★☆☆)"
   ]
  },
  {
   "cell_type": "code",
   "execution_count": 66,
   "metadata": {
    "collapsed": false,
    "jupyter": {
     "outputs_hidden": false
    }
   },
   "outputs": [
    {
     "name": "stdout",
     "output_type": "stream",
     "text": [
      "[[5.18719223 6.1604829  7.69128462 7.34599976 1.05921784]]\n",
      "[[6. 7. 8. 8. 2.]]\n"
     ]
    }
   ],
   "source": [
    "a = np.random.uniform(1,9, [1,5])\n",
    "print(a)\n",
    "print(np.ceil(a))\n"
   ]
  },
  {
   "cell_type": "markdown",
   "metadata": {},
   "source": [
    "#### 30. How to find common values between two arrays? (★☆☆)"
   ]
  },
  {
   "cell_type": "code",
   "execution_count": 67,
   "metadata": {
    "collapsed": false,
    "jupyter": {
     "outputs_hidden": false
    }
   },
   "outputs": [
    {
     "data": {
      "text/plain": [
       "array([1, 3])"
      ]
     },
     "execution_count": 67,
     "metadata": {},
     "output_type": "execute_result"
    }
   ],
   "source": [
    "np.intersect1d([1, 3, 4, 3], [3, 1, 2, 1])"
   ]
  },
  {
   "cell_type": "markdown",
   "metadata": {},
   "source": [
    "#### 32. Is the following expressions true? (★☆☆)"
   ]
  },
  {
   "cell_type": "code",
   "execution_count": null,
   "metadata": {},
   "outputs": [],
   "source": [
    "```python\n",
    "np.sqrt(-1) == np.emath.sqrt(-1)\n",
    "```"
   ]
  },
  {
   "cell_type": "code",
   "execution_count": 69,
   "metadata": {
    "collapsed": false,
    "jupyter": {
     "outputs_hidden": false
    }
   },
   "outputs": [
    {
     "name": "stderr",
     "output_type": "stream",
     "text": [
      "/var/folders/ts/nr_dy3vj1691_8qh643c76sh0000gn/T/ipykernel_9974/244602691.py:1: RuntimeWarning: invalid value encountered in sqrt\n",
      "  np.sqrt(-1) == np.emath.sqrt(-1)\n"
     ]
    },
    {
     "data": {
      "text/plain": [
       "False"
      ]
     },
     "execution_count": 69,
     "metadata": {},
     "output_type": "execute_result"
    }
   ],
   "source": [
    "np.sqrt(-1) == np.emath.sqrt(-1)"
   ]
  },
  {
   "cell_type": "markdown",
   "metadata": {},
   "source": [
    "#### 38. Consider a generator function that generates 10 integers and use it to build an array (★☆☆)"
   ]
  },
  {
   "cell_type": "code",
   "execution_count": 70,
   "metadata": {
    "collapsed": false,
    "jupyter": {
     "outputs_hidden": false
    }
   },
   "outputs": [
    {
     "data": {
      "text/plain": [
       "array([0, 1, 2, 3, 4, 5, 6, 7, 8, 9])"
      ]
     },
     "execution_count": 70,
     "metadata": {},
     "output_type": "execute_result"
    }
   ],
   "source": [
    "np.array(range(10))"
   ]
  },
  {
   "cell_type": "markdown",
   "metadata": {},
   "source": [
    "#### 39. Create a vector of size 10 with values ranging from 0 to 1, both excluded (★★☆)"
   ]
  },
  {
   "cell_type": "code",
   "execution_count": 9,
   "metadata": {
    "collapsed": false,
    "jupyter": {
     "outputs_hidden": false
    }
   },
   "outputs": [
    {
     "data": {
      "text/plain": [
       "array([0.09090909, 0.18181818, 0.27272727, 0.36363636, 0.45454545,\n",
       "       0.54545455, 0.63636364, 0.72727273, 0.81818182, 0.90909091])"
      ]
     },
     "execution_count": 9,
     "metadata": {},
     "output_type": "execute_result"
    }
   ],
   "source": [
    "np.linspace(0, 1, num=11, endpoint=False)[1:]"
   ]
  },
  {
   "cell_type": "markdown",
   "metadata": {},
   "source": [
    "#### 40. Create a random vector of size 10 and sort it (★★☆)"
   ]
  },
  {
   "cell_type": "code",
   "execution_count": 13,
   "metadata": {
    "collapsed": false,
    "jupyter": {
     "outputs_hidden": false
    }
   },
   "outputs": [
    {
     "data": {
      "text/plain": [
       "array([0.02725305, 0.11294875, 0.13995504, 0.2192578 , 0.28356831,\n",
       "       0.29260037, 0.3193654 , 0.33749531, 0.85630069, 0.95981119])"
      ]
     },
     "execution_count": 13,
     "metadata": {},
     "output_type": "execute_result"
    }
   ],
   "source": [
    "np.sort(np.random.random(size=10))"
   ]
  },
  {
   "cell_type": "markdown",
   "metadata": {},
   "source": [
    "#### 42. Consider two random array A and B, check if they are equal (★★☆)"
   ]
  },
  {
   "cell_type": "code",
   "execution_count": 16,
   "metadata": {
    "collapsed": false,
    "jupyter": {
     "outputs_hidden": false
    }
   },
   "outputs": [
    {
     "name": "stdout",
     "output_type": "stream",
     "text": [
      "False\n",
      "False\n"
     ]
    }
   ],
   "source": [
    "a1 = np.random.randint(10)\n",
    "a2 = np.random.randint(10)\n",
    "print(np.array_equal(a1, a2))\n",
    "print(a1 == a2)"
   ]
  },
  {
   "cell_type": "markdown",
   "metadata": {},
   "source": [
    "#### 45. Create random vector of size 10 and replace the maximum value by 0 (★★☆)"
   ]
  },
  {
   "cell_type": "code",
   "execution_count": 19,
   "metadata": {
    "collapsed": false,
    "jupyter": {
     "outputs_hidden": false
    }
   },
   "outputs": [
    {
     "name": "stdout",
     "output_type": "stream",
     "text": [
      "[0.76048369 0.53222364 0.69602858 0.91506607 0.56822199 0.1921172\n",
      " 0.93947607 0.52131071 0.40925331 0.49306182]\n",
      "[0.76048369 0.53222364 0.69602858 0.91506607 0.56822199 0.1921172\n",
      " 0.         0.52131071 0.40925331 0.49306182]\n"
     ]
    }
   ],
   "source": [
    "b1 = np.random.random(10)\n",
    "print(b1)\n",
    "b2 = np.where(np.isin(b1, np.max(b1)), 0, b1)\n",
    "print(b2)"
   ]
  },
  {
   "cell_type": "markdown",
   "metadata": {},
   "source": [
    "#### 50. How to find the closest value (to a given scalar) in a vector? (★★☆)"
   ]
  },
  {
   "cell_type": "code",
   "execution_count": 21,
   "metadata": {
    "collapsed": false,
    "jupyter": {
     "outputs_hidden": false
    }
   },
   "outputs": [
    {
     "name": "stdout",
     "output_type": "stream",
     "text": [
      "[0.8494655  0.11176156 0.43660513 0.51996164 0.76650017 0.81131489\n",
      " 0.74263419 0.00483638 0.8341309  0.21106312]\n"
     ]
    },
    {
     "data": {
      "text/plain": [
       "0.519961640015089"
      ]
     },
     "execution_count": 21,
     "metadata": {},
     "output_type": "execute_result"
    }
   ],
   "source": [
    "a1 = np.random.random(10)\n",
    "print(a1)\n",
    "value = 0.5\n",
    "\n",
    "closest_value_index = np.abs(a1 - value).argmin()\n",
    "a1[closest_value_index]"
   ]
  },
  {
   "cell_type": "markdown",
   "metadata": {},
   "source": [
    "#### 53. How to convert a float (32 bits) array into an integer (32 bits) in place?"
   ]
  },
  {
   "cell_type": "code",
   "execution_count": 28,
   "metadata": {
    "collapsed": false,
    "jupyter": {
     "outputs_hidden": false
    }
   },
   "outputs": [
    {
     "name": "stdout",
     "output_type": "stream",
     "text": [
      "[4.7367816 0.8980746 3.1798646 7.6976085 5.9055967 1.2432791 3.3688684\n",
      " 7.089455  1.4207349 7.8003163]\n",
      "float32\n",
      "[4 0 3 7 5 1 3 7 1 7]\n",
      "int32\n"
     ]
    }
   ],
   "source": [
    "a = np.random.random(10).astype('float32')*10\n",
    "print(a)\n",
    "print(a.dtype)\n",
    "\n",
    "a = a.astype('int32')\n",
    "print(a)\n",
    "print(a.dtype)"
   ]
  },
  {
   "cell_type": "markdown",
   "metadata": {},
   "source": [
    "#### 59. How to sort an array by the nth column? (★★☆)"
   ]
  },
  {
   "cell_type": "code",
   "execution_count": 32,
   "metadata": {
    "collapsed": false,
    "jupyter": {
     "outputs_hidden": false
    }
   },
   "outputs": [
    {
     "name": "stdout",
     "output_type": "stream",
     "text": [
      "[[0.27399646 0.90682875 0.42108509 0.1330128  0.05981488]\n",
      " [0.68714547 0.75928758 0.7352196  0.92452821 0.32037533]\n",
      " [0.33704101 0.6841352  0.9827802  0.72371859 0.01079979]\n",
      " [0.70009956 0.62181167 0.14795563 0.09738944 0.86693625]\n",
      " [0.24463191 0.19481123 0.52026233 0.15485038 0.01404038]]\n",
      "[[0.24463191 0.19481123 0.52026233 0.15485038 0.01404038]\n",
      " [0.70009956 0.62181167 0.14795563 0.09738944 0.86693625]\n",
      " [0.33704101 0.6841352  0.9827802  0.72371859 0.01079979]\n",
      " [0.68714547 0.75928758 0.7352196  0.92452821 0.32037533]\n",
      " [0.27399646 0.90682875 0.42108509 0.1330128  0.05981488]]\n"
     ]
    }
   ],
   "source": [
    "a = np.random.rand(5,5)\n",
    "print(a)\n",
    "print(a[a[:,1].argsort()])"
   ]
  },
  {
   "cell_type": "markdown",
   "metadata": {},
   "source": [
    "#### 60. How to tell if a given 2D array has null columns? (★★☆)"
   ]
  },
  {
   "cell_type": "code",
   "execution_count": 53,
   "metadata": {
    "collapsed": false,
    "jupyter": {
     "outputs_hidden": false
    }
   },
   "outputs": [
    {
     "name": "stdout",
     "output_type": "stream",
     "text": [
      "[[nan  2.  0.  0.  1.  0.  1.  2.  2.  1.]\n",
      " [nan  1.  2.  2.  1.  0.  0.  0.  1.  0.]\n",
      " [nan  0.  0.  2.  2.  1.  1.  2.  1.  0.]]\n",
      "True\n"
     ]
    }
   ],
   "source": [
    "Z = np.random.randint(0,3, (3,10)).astype(float)\n",
    "Z[:,0] = np.nan\n",
    "print(Z)\n",
    "\n",
    "G = np.isnan(Z)\n",
    "print(G.all(axis=0).any())"
   ]
  },
  {
   "cell_type": "markdown",
   "metadata": {},
   "source": [
    "#### 70. Consider the vector \\[1, 2, 3, 4, 5\\], how to build a new vector with 3 consecutive zeros interleaved between each value? (★★★)"
   ]
  },
  {
   "cell_type": "code",
   "execution_count": 85,
   "metadata": {
    "collapsed": false,
    "jupyter": {
     "outputs_hidden": false
    }
   },
   "outputs": [
    {
     "data": {
      "text/plain": [
       "array([1., 0., 0., 0., 2., 0., 0., 0., 3., 0., 0., 0., 4., 0., 0., 0., 5.])"
      ]
     },
     "execution_count": 85,
     "metadata": {},
     "output_type": "execute_result"
    }
   ],
   "source": [
    "a = np.arange(1,6)\n",
    "b = np.zeros((3,5))\n",
    "np.vstack((a, b)).flatten('F')[:-3]"
   ]
  },
  {
   "cell_type": "markdown",
   "metadata": {},
   "source": [
    "#### 72. How to swap two rows of an array? (★★★)"
   ]
  },
  {
   "cell_type": "code",
   "execution_count": 87,
   "metadata": {
    "collapsed": false,
    "jupyter": {
     "outputs_hidden": false
    }
   },
   "outputs": [
    {
     "name": "stdout",
     "output_type": "stream",
     "text": [
      "[[2 6 6 1 3]\n",
      " [9 7 9 7 0]\n",
      " [3 3 5 5 5]\n",
      " [3 4 6 0 6]\n",
      " [0 6 5 0 9]]\n",
      "[[2 6 6 1 3]\n",
      " [9 7 9 7 0]\n",
      " [0 6 5 0 9]\n",
      " [3 4 6 0 6]\n",
      " [3 3 5 5 5]]\n"
     ]
    }
   ],
   "source": [
    "a = np.random.randint(0, 10, (5, 5))\n",
    "print(a)\n",
    "\n",
    "a[[2, 4]] = a[[4, 2]]\n",
    "print(a)"
   ]
  },
  {
   "cell_type": "markdown",
   "metadata": {},
   "source": [
    "#### 77. How to negate a boolean, or to change the sign of a float inplace? (★★★)"
   ]
  },
  {
   "cell_type": "code",
   "execution_count": 113,
   "metadata": {
    "collapsed": false,
    "jupyter": {
     "outputs_hidden": false
    }
   },
   "outputs": [
    {
     "name": "stdout",
     "output_type": "stream",
     "text": [
      "[False  True]\n",
      "[ True False]\n",
      "[[2. 1.]\n",
      " [0. 4.]]\n",
      "[[-2. -1.]\n",
      " [-0. -4.]]\n"
     ]
    }
   ],
   "source": [
    "a = np.array([[2., 1.], [0, 4.]])\n",
    "b = a.all(axis=0)\n",
    "print(b)\n",
    "print(~b)\n",
    "print(a)\n",
    "a = -a\n",
    "print(a)"
   ]
  },
  {
   "cell_type": "markdown",
   "metadata": {},
   "source": [
    "#### 83. How to find the most frequent value in an array?"
   ]
  },
  {
   "cell_type": "code",
   "execution_count": 116,
   "metadata": {
    "collapsed": false,
    "jupyter": {
     "outputs_hidden": false
    }
   },
   "outputs": [
    {
     "name": "stdout",
     "output_type": "stream",
     "text": [
      "[3 6 4 2]\n",
      "1\n"
     ]
    }
   ],
   "source": [
    "a = np.array([1,2,3,1,2,1,1,1,3,2,2,0,0,0,1])\n",
    "print(counts := np.bincount(a))\n",
    "print(np.argmax(counts))"
   ]
  },
  {
   "cell_type": "markdown",
   "metadata": {},
   "source": [
    "#### 89. How to get the n largest values of an array (★★★)"
   ]
  },
  {
   "cell_type": "code",
   "execution_count": 131,
   "metadata": {
    "collapsed": false,
    "jupyter": {
     "outputs_hidden": false
    }
   },
   "outputs": [
    {
     "name": "stdout",
     "output_type": "stream",
     "text": [
      "[[3 1 2 2 1]\n",
      " [2 2 4 2 3]\n",
      " [4 1 4 4 1]]\n"
     ]
    },
    {
     "data": {
      "text/plain": [
       "array([4, 3, 2])"
      ]
     },
     "execution_count": 131,
     "metadata": {},
     "output_type": "execute_result"
    }
   ],
   "source": [
    "a = np.random.randint(1,5, (3, 5))\n",
    "print(a)\n",
    "n = 3\n",
    "# np.sort(np.unique(a))[-n:][::-1]\n",
    "np.unique(a)[-n:][::-1]"
   ]
  },
  {
   "cell_type": "markdown",
   "metadata": {},
   "source": [
    "#### 96. Given a two dimensional array, how to extract unique rows? (★★★)"
   ]
  },
  {
   "cell_type": "code",
   "execution_count": 145,
   "metadata": {
    "collapsed": false,
    "jupyter": {
     "outputs_hidden": false
    }
   },
   "outputs": [
    {
     "name": "stdout",
     "output_type": "stream",
     "text": [
      "[[92 25  5 48 53]\n",
      " [67 49 39 37 38]\n",
      " [44 91 85 22 12]\n",
      " [ 1  2  3  4  5]\n",
      " [67 49 39 37 38]\n",
      " [44 91 85 22 12]]\n",
      "[[ 1  2  3  4  5]\n",
      " [44 91 85 22 12]\n",
      " [67 49 39 37 38]\n",
      " [92 25  5 48 53]]\n",
      "[1 2 2 1]\n",
      "[0 3]\n",
      "[[ 1  2  3  4  5]\n",
      " [92 25  5 48 53]]\n"
     ]
    }
   ],
   "source": [
    "a = np.array([[92, 25, 5, 48, 53,],\n",
    "              [67, 49, 39, 37, 38,],\n",
    "              [44, 91, 85, 22, 12,],\n",
    "              [1, 2, 3, 4, 5],\n",
    "              [67, 49, 39, 37, 38,],\n",
    "              [44, 91, 85, 22, 12,]])\n",
    "print(a)\n",
    "b, c = np.unique(a, return_counts=True, axis=0)\n",
    "print(b)\n",
    "print(c)\n",
    "print(d := np.argwhere(c==1).flatten())\n",
    "print(b[d])"
   ]
  },
  {
   "cell_type": "code",
   "execution_count": null,
   "metadata": {},
   "outputs": [],
   "source": []
  }
 ],
 "metadata": {
  "kernelspec": {
   "display_name": "Python 3 (ipykernel)",
   "language": "python",
   "name": "python3"
  },
  "language_info": {
   "codemirror_mode": {
    "name": "ipython",
    "version": 3
   },
   "file_extension": ".py",
   "mimetype": "text/x-python",
   "name": "python",
   "nbconvert_exporter": "python",
   "pygments_lexer": "ipython3",
   "version": "3.8.12"
  }
 },
 "nbformat": 4,
 "nbformat_minor": 4
}
